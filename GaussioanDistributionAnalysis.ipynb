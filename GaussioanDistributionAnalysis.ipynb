{
 "cells": [
  {
   "cell_type": "code",
   "execution_count": 3,
   "metadata": {},
   "outputs": [],
   "source": [
    "from functools import reduce\n",
    "\n",
    "from scipy.stats import chi2, norm, t"
   ]
  },
  {
   "cell_type": "code",
   "execution_count": 4,
   "metadata": {},
   "outputs": [],
   "source": [
    " data = [5.4, -13.9, -11, 7.2, -15.6, 29.2, 1.4, -0.3, 6.6, -9.9]"
   ]
  },
  {
   "cell_type": "code",
   "execution_count": null,
   "metadata": {},
   "outputs": [],
   "source": []
  },
  {
   "cell_type": "code",
   "execution_count": 5,
   "metadata": {},
   "outputs": [],
   "source": [
    "class GDA:\n",
    "    def __init__(self, data, var = None, mean = None):\n",
    "        self.len = len(data)\n",
    "        self.data = data\n",
    "        self.mean = mean\n",
    "        self.var = var\n",
    "        \n",
    "    \n",
    "    def get_expectency(self, confidence_interval = 0.9):\n",
    "        l = 1 - confidence_interval\n",
    "        \n",
    "        if self.mean != None: conf_range = self.mean\n",
    "        \n",
    "        elif self.var == None:\n",
    "            mean = sum(self.data)/len(self.data)\n",
    "           # var = sum(map(lambda x: (x - mean)**2 , self.data))/(self.len - 1)\n",
    "            var = reduce(lambda a,b : a + b, map(lambda x: (x - mean)**2 , self.data))/(self.len - 1)\n",
    "\n",
    "            quant = t.ppf(1 - l/2, self.len - 1)\n",
    "            conf_range = (mean - var*quant/self.len**0.5, mean + var*quant/self.len**0.5)\n",
    "            \n",
    "        else:\n",
    "            mean = sum(self.data)/len(self.data)\n",
    "            quant = norm.ppf(1-l/2)\n",
    "            conf_range = (mean - self.var*quant/self.len**0.5, mean + self.var*quant/self.len**0.5)\n",
    "            \n",
    "        return conf_range\n",
    "    \n",
    "    \n",
    "    def get_variance(self, confidence_interval = 0.9):\n",
    "        l = 1 - confidence_interval\n",
    "        \n",
    "        if self.var != None: conf_range = sefl.var\n",
    "            \n",
    "        elif self.mean != None:\n",
    "            std = sum(map(lambda x: (x - self.mean)**2 , self.data))/(self.len)\n",
    "            quant1 = chi2.ppf(1 - l/2, self.len)\n",
    "            quant2 = chi2.ppf(l/2, self.len)\n",
    "            conf_range = self.len*std/quant1, self.len*std/quant2\n",
    "            \n",
    "        else:\n",
    "            mean = sum(self.data)/len(self.data)\n",
    "            std = sum(map(lambda x: (x - mean)**2 , self.data))/(self.len - 1)\n",
    "            quant1 = chi2.ppf(1 - l/2, self.len - 1)\n",
    "            quant2 = chi2.ppf(l/2, self.len - 1)\n",
    "            conf_range = (self.len - 1)*std/quant1, (self.len - 1)*std/quant2\n",
    "            \n",
    "        return conf_range\n",
    "    \n",
    "        \n",
    "    def interval_prob(self, interval):\n",
    "        if self.mean != None:\n",
    "            mean = self.mean\n",
    "            if self.var != None: var = self.var\n",
    "            else: var = sum(map(lambda x: (x - mean)**2 , self.data))/(self.len)\n",
    "        else: \n",
    "            mean = sum(self.data)/len(self.data)\n",
    "            if self.var != None: var = self.var\n",
    "            else: var = sum(map(lambda x: (x - mean)**2 , self.data))/(self.len - 1)\n",
    "        \n",
    "        if type(interval) == int or type(interval) == float:\n",
    "            x =  (interval - mean)/var**0.5\n",
    "            return norm.cdf(x)\n",
    "        \n",
    "        else: \n",
    "            x1 = (interval[0] - mean)/var**0.5\n",
    "            x2 = (interval[1] - mean)/var**0.5\n",
    "            return norm.cdf(x2) - norm.cdf(x1)\n",
    "        \n",
    "        \n",
    "        \n",
    "    \n"
   ]
  },
  {
   "cell_type": "code",
   "execution_count": 6,
   "metadata": {},
   "outputs": [],
   "source": [
    "gda = GDA([1,2,3], mean = 2, var = 6)"
   ]
  },
  {
   "cell_type": "code",
   "execution_count": 7,
   "metadata": {},
   "outputs": [
    {
     "data": {
      "text/plain": [
       "0.9999999999999999"
      ]
     },
     "execution_count": 7,
     "metadata": {},
     "output_type": "execute_result"
    }
   ],
   "source": [
    "gda.interval_prob([-18, 99993])"
   ]
  },
  {
   "cell_type": "code",
   "execution_count": null,
   "metadata": {},
   "outputs": [],
   "source": []
  },
  {
   "cell_type": "code",
   "execution_count": null,
   "metadata": {},
   "outputs": [],
   "source": []
  },
  {
   "cell_type": "code",
   "execution_count": null,
   "metadata": {},
   "outputs": [],
   "source": []
  },
  {
   "cell_type": "code",
   "execution_count": null,
   "metadata": {},
   "outputs": [],
   "source": []
  },
  {
   "cell_type": "code",
   "execution_count": 10,
   "metadata": {},
   "outputs": [],
   "source": [
    "hw = GDA(data, var = 0.1, mean = -2)"
   ]
  },
  {
   "cell_type": "code",
   "execution_count": 11,
   "metadata": {},
   "outputs": [
    {
     "data": {
      "text/plain": [
       "0.5"
      ]
     },
     "execution_count": 11,
     "metadata": {},
     "output_type": "execute_result"
    }
   ],
   "source": [
    "hw.interval_prob(-2)"
   ]
  },
  {
   "cell_type": "code",
   "execution_count": 12,
   "metadata": {},
   "outputs": [],
   "source": [
    "fff = [3, 4,5 ,6 ]"
   ]
  },
  {
   "cell_type": "code",
   "execution_count": 13,
   "metadata": {},
   "outputs": [
    {
     "data": {
      "text/plain": [
       "4"
      ]
     },
     "execution_count": 13,
     "metadata": {},
     "output_type": "execute_result"
    }
   ],
   "source": [
    "len(fff)"
   ]
  },
  {
   "cell_type": "code",
   "execution_count": 14,
   "metadata": {},
   "outputs": [],
   "source": [
    "check = GDA(data, mean = 0)"
   ]
  },
  {
   "cell_type": "code",
   "execution_count": 15,
   "metadata": {},
   "outputs": [],
   "source": [
    "var = list(check.get_variance())"
   ]
  },
  {
   "cell_type": "raw",
   "metadata": {},
   "source": []
  },
  {
   "cell_type": "code",
   "execution_count": 16,
   "metadata": {},
   "outputs": [
    {
     "name": "stdout",
     "output_type": "stream",
     "text": [
      "[9.449900966378179, 20.369093541034644]\n"
     ]
    }
   ],
   "source": [
    "print(list(map(lambda x: x**0.5, var)))"
   ]
  },
  {
   "cell_type": "code",
   "execution_count": 17,
   "metadata": {},
   "outputs": [
    {
     "data": {
      "text/plain": [
       "3.841458820694127"
      ]
     },
     "execution_count": 17,
     "metadata": {},
     "output_type": "execute_result"
    }
   ],
   "source": [
    "(norm.ppf(0.025))**2"
   ]
  },
  {
   "cell_type": "code",
   "execution_count": 18,
   "metadata": {},
   "outputs": [
    {
     "data": {
      "text/plain": [
       "-2.575829303548901"
      ]
     },
     "execution_count": 18,
     "metadata": {},
     "output_type": "execute_result"
    }
   ],
   "source": [
    "norm.ppf(0.005)"
   ]
  },
  {
   "cell_type": "code",
   "execution_count": 19,
   "metadata": {},
   "outputs": [
    {
     "data": {
      "text/plain": [
       "163.483"
      ]
     },
     "execution_count": 19,
     "metadata": {},
     "output_type": "execute_result"
    }
   ],
   "source": [
    "sum(map(lambda x: (x - 0)**2 , data))/(len(data))"
   ]
  },
  {
   "cell_type": "code",
   "execution_count": 20,
   "metadata": {},
   "outputs": [
    {
     "name": "stdout",
     "output_type": "stream",
     "text": [
      "[89.30062827435525, 414.8999716834193]\n"
     ]
    }
   ],
   "source": [
    "print(var)"
   ]
  },
  {
   "cell_type": "code",
   "execution_count": 21,
   "metadata": {},
   "outputs": [
    {
     "name": "stdout",
     "output_type": "stream",
     "text": [
      "[9.449900966378179, 20.369093541034644]\n"
     ]
    }
   ],
   "source": [
    "print(list(map(lambda x: x**0.5, var)))"
   ]
  },
  {
   "cell_type": "code",
   "execution_count": null,
   "metadata": {},
   "outputs": [],
   "source": []
  },
  {
   "cell_type": "code",
   "execution_count": 22,
   "metadata": {},
   "outputs": [
    {
     "data": {
      "text/plain": [
       "'C:\\\\Users\\\\Andrey.LAPTOP-26CASLG5\\\\all stuff here'"
      ]
     },
     "execution_count": 22,
     "metadata": {},
     "output_type": "execute_result"
    }
   ],
   "source": [
    "%pwd"
   ]
  },
  {
   "cell_type": "code",
   "execution_count": null,
   "metadata": {},
   "outputs": [],
   "source": []
  }
 ],
 "metadata": {
  "kernelspec": {
   "display_name": "Python 3",
   "language": "python",
   "name": "python3"
  },
  "language_info": {
   "codemirror_mode": {
    "name": "ipython",
    "version": 3
   },
   "file_extension": ".py",
   "mimetype": "text/x-python",
   "name": "python",
   "nbconvert_exporter": "python",
   "pygments_lexer": "ipython3",
   "version": "3.7.1"
  }
 },
 "nbformat": 4,
 "nbformat_minor": 2
}
